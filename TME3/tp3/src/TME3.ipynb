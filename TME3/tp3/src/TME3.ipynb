{
 "cells": [
  {
   "cell_type": "markdown",
   "metadata": {},
   "source": [
    "### 1. Gérer les données avec *Dataset* et *Dataloader*\n"
   ]
  },
  {
   "cell_type": "code",
   "execution_count": null,
   "metadata": {},
   "outputs": [],
   "source": []
  },
  {
   "cell_type": "markdown",
   "metadata": {},
   "source": [
    "Les classes `Dataset` et `Dataloader` permettent de faciliter la gestion des données sous `PyTorch`. \n",
    "\n",
    "La classe `Dataset` est une classe abstraite qui permet de préciser comment un exemple est chargé, pré-traité, transformé ... et donne accès par l'intermédiaire d'un itérateur à chaque exemple d'un jeu de donnnées. \n",
    "\n",
    "La classe `Dataloader` encapsule un jeu de données et permet de requêter de diverses manières ce jeu de données: spécifier la taille du mini-batch, si l'ordre doit être aléatoire ou non, de quelle manière sont concaténés les exemples etc...\n",
    "\n",
    "Pour implémenter un `Dataset`, il suffit de définit 2 méthodes `__getitem__(self, index)` et `__len(self)`:\n",
    "\n",
    "`from torch.utils.data import Dataset, DataLoader`\n",
    "\n",
    "`class MonDataset(Dataset):`\n",
    "\n",
    "    `def __init__(self, ...):`\n",
    "\n",
    "        `pass`\n",
    "\n",
    "    `def __getitem__(self, index):`\n",
    "\n",
    "    retourne un couple (exemple, label) correspondant à l'index\n",
    "        \n",
    "        `pass`\n",
    "    \n",
    "    `def __len__(self):`\n",
    "\n",
    "    renvoie la taille du jeu de données\n",
    "    \n",
    "        `pass`\n",
    "    "
   ]
  },
  {
   "cell_type": "markdown",
   "metadata": {},
   "source": [
    "Principaux avantages (mis à part le prétraitement possible) est qu'il n'est pas nécessaire de charger tout le jeu de données en mémoire, le chargement se fait à la volée. Par ailleurs, la classe pré-existante `TensorDataset` permet de construire un dataset pour une liste de tenseurs passée en argument (le ième exemple est un nuplet composé de la ième ligne de chaque tenseur)\n",
    "\n",
    "Une fois `MonDataset` implémenté il suffit de créer un `DataLoader` de la manière suivante :\n",
    "\n",
    "`data = DataLoader(MonDataset(...), shuffle = True, batch_size = BATCH_SIZE)`\n",
    "\n",
    "création du dataloader en spécifiant la taille du batch et ordre aléatoire\n",
    "\n",
    "`for x, y in data:`\n",
    "\n",
    "    x et y est un batch de taille BATCH_SIZE"
   ]
  },
  {
   "cell_type": "markdown",
   "metadata": {},
   "source": []
  },
  {
   "cell_type": "markdown",
   "metadata": {},
   "source": []
  },
  {
   "cell_type": "markdown",
   "metadata": {},
   "source": []
  },
  {
   "cell_type": "markdown",
   "metadata": {},
   "source": []
  },
  {
   "cell_type": "markdown",
   "metadata": {},
   "source": []
  },
  {
   "cell_type": "markdown",
   "metadata": {},
   "source": []
  },
  {
   "cell_type": "markdown",
   "metadata": {},
   "source": []
  },
  {
   "cell_type": "markdown",
   "metadata": {},
   "source": []
  },
  {
   "cell_type": "markdown",
   "metadata": {},
   "source": []
  },
  {
   "cell_type": "markdown",
   "metadata": {},
   "source": []
  },
  {
   "cell_type": "markdown",
   "metadata": {},
   "source": []
  },
  {
   "cell_type": "markdown",
   "metadata": {},
   "source": []
  },
  {
   "cell_type": "markdown",
   "metadata": {},
   "source": []
  },
  {
   "cell_type": "markdown",
   "metadata": {},
   "source": []
  },
  {
   "cell_type": "markdown",
   "metadata": {},
   "source": []
  },
  {
   "cell_type": "markdown",
   "metadata": {},
   "source": []
  },
  {
   "cell_type": "markdown",
   "metadata": {},
   "source": []
  },
  {
   "cell_type": "markdown",
   "metadata": {},
   "source": []
  },
  {
   "cell_type": "markdown",
   "metadata": {},
   "source": []
  },
  {
   "cell_type": "markdown",
   "metadata": {},
   "source": []
  },
  {
   "cell_type": "markdown",
   "metadata": {},
   "source": []
  },
  {
   "cell_type": "markdown",
   "metadata": {},
   "source": []
  },
  {
   "cell_type": "markdown",
   "metadata": {},
   "source": []
  },
  {
   "cell_type": "code",
   "execution_count": null,
   "metadata": {},
   "outputs": [],
   "source": []
  }
 ],
 "metadata": {
  "language_info": {
   "name": "python"
  }
 },
 "nbformat": 4,
 "nbformat_minor": 2
}
