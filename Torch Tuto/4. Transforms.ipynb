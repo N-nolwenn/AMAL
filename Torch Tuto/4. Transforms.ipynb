{
 "cells": [
  {
   "cell_type": "markdown",
   "id": "08ad2896-00e1-4486-8da6-b459df55d287",
   "metadata": {},
   "source": [
    "# TRANSFORMS\n"
   ]
  },
  {
   "cell_type": "markdown",
   "id": "4567dda7-c2f5-4076-bc8e-3e9bef507bea",
   "metadata": {},
   "source": [
    "Data does not always come in its final processed form that is required for training machine learning algorithms. We use transforms to perform some manipulation of the data and make it suitable for training.\n",
    "\n",
    "All TorchVision datasets have two parameters -transform to modify the features and target_transform to modify the labels - that accept callables containing the transformation logic. The **torchvision.transforms** module offers several commonly-used transforms out of the box.\n",
    "\n",
    "The FashionMNIST features are in PIL Image format, and the labels are integers. For training, we need the features as normalized tensors, and the labels as one-hot encoded tensors. To make these transformations, we use `ToTensor` and `Lambda`."
   ]
  },
  {
   "cell_type": "code",
   "execution_count": 1,
   "id": "d2c0e45b-239b-4be1-816e-fc0c1ffc5041",
   "metadata": {},
   "outputs": [],
   "source": [
    "import torch\n",
    "from torchvision import datasets\n",
    "from torchvision.transforms import ToTensor, Lambda\n",
    "\n",
    "ds = datasets.FashionMNIST(\n",
    "    root=\"data\",\n",
    "    train=True,\n",
    "    download=True,\n",
    "    transform=ToTensor(),\n",
    "    target_transform=Lambda(lambda y: torch.zeros(10, dtype=torch.float).scatter_(0, torch.tensor(y), value=1))\n",
    ")"
   ]
  },
  {
   "cell_type": "markdown",
   "id": "507c260a-2c39-4264-83d9-b3305e91be90",
   "metadata": {},
   "source": [
    "## ToTensor()"
   ]
  },
  {
   "cell_type": "markdown",
   "id": "e823a4ef-3cfe-49ca-aea9-61fb9f4afbb1",
   "metadata": {},
   "source": [
    "**ToTensor** converts a PIL image or NumPy `ndarray` into a `FloatTensor`. and scales the image’s pixel intensity values in the range [0., 1.]\r\n",
    "\r\n"
   ]
  },
  {
   "cell_type": "markdown",
   "id": "f164c7bd-102d-472a-be99-beebeaaa3d1b",
   "metadata": {},
   "source": [
    "## Lambda Transforms"
   ]
  },
  {
   "cell_type": "markdown",
   "id": "fbe0d6a8-e9ef-4eef-819d-5c62a5ab79f2",
   "metadata": {},
   "source": [
    "Lambda transforms apply any user-defined lambda function. Here, we define a function to turn the integer into a one-hot encoded tensor. It first creates a zero tensor of size 10 (the number of labels in our dataset) and calls **scatter_** which assigns a `value=1` on the index as given by the label `y`."
   ]
  },
  {
   "cell_type": "code",
   "execution_count": 2,
   "id": "f8a047e6-f5bf-4e23-82e2-4b29d330df58",
   "metadata": {},
   "outputs": [],
   "source": [
    "target_transform = Lambda(lambda y: torch.zeros(\n",
    "    10, dtype=torch.float).scatter_(dim=0, index=torch.tensor(y), value=1))"
   ]
  }
 ],
 "metadata": {
  "kernelspec": {
   "display_name": "Python 3 (ipykernel)",
   "language": "python",
   "name": "python3"
  },
  "language_info": {
   "codemirror_mode": {
    "name": "ipython",
    "version": 3
   },
   "file_extension": ".py",
   "mimetype": "text/x-python",
   "name": "python",
   "nbconvert_exporter": "python",
   "pygments_lexer": "ipython3",
   "version": "3.9.18"
  }
 },
 "nbformat": 4,
 "nbformat_minor": 5
}
